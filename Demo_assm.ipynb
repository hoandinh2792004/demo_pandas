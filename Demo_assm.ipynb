{
 "cells": [
  {
   "cell_type": "code",
   "execution_count": 21,
   "id": "initial_id",
   "metadata": {
    "collapsed": true,
    "ExecuteTime": {
     "end_time": "2024-07-20T02:12:12.758046Z",
     "start_time": "2024-07-20T02:12:12.753303Z"
    }
   },
   "outputs": [],
   "source": [
    "import pandas as pd\n",
    "import matplotlib.pyplot as plt\n",
    "import numpy as np"
   ]
  },
  {
   "cell_type": "code",
   "outputs": [
    {
     "data": {
      "text/plain": "     ResultID       Date  ProductID StoreID  Quantity Ordered   Price Each   \\\n0           1   1/1/2024      101.0    ST01                 1        700.00   \n1           2   1/1/2024      102.0    ST02                 1         14.95   \n2           3   1/1/2024      103.0    ST03                 2         11.99   \n3           4   1/1/2024      104.0    ST04                 1        149.99   \n4           5   1/1/2024      105.0    ST05                 1         11.99   \n..        ...        ...        ...     ...               ...           ...   \n266       238   7/8/2024      104.0    ST15                 1        700.00   \n267       239   7/9/2024      105.0    ST01                 1          3.84   \n268       240  7/10/2024      106.0    ST02                 1        600.00   \n269       241  7/11/2024      107.0    ST03                 1        150.00   \n270       242  7/12/2024      108.0    ST04                 1         99.99   \n\n               Address        City  \n0      123 Main Street         NYC  \n1       456 Elm Avenue          LA  \n2    789 Oak Boulevard     Chicago  \n3      1000 Pine Drive     Houston  \n4     123 Maple Street     Phoenix  \n..                 ...         ...  \n266  789 Elm Boulevard      Denver  \n267    1000 Pine Drive    Columbus  \n268    123 Main Street  Fort Worth  \n269     456 Elm Avenue   Charlotte  \n270  789 Oak Boulevard     Seattle  \n\n[271 rows x 8 columns]",
      "text/html": "<div>\n<style scoped>\n    .dataframe tbody tr th:only-of-type {\n        vertical-align: middle;\n    }\n\n    .dataframe tbody tr th {\n        vertical-align: top;\n    }\n\n    .dataframe thead th {\n        text-align: right;\n    }\n</style>\n<table border=\"1\" class=\"dataframe\">\n  <thead>\n    <tr style=\"text-align: right;\">\n      <th></th>\n      <th>ResultID</th>\n      <th>Date</th>\n      <th>ProductID</th>\n      <th>StoreID</th>\n      <th>Quantity Ordered</th>\n      <th>Price Each</th>\n      <th>Address</th>\n      <th>City</th>\n    </tr>\n  </thead>\n  <tbody>\n    <tr>\n      <th>0</th>\n      <td>1</td>\n      <td>1/1/2024</td>\n      <td>101.0</td>\n      <td>ST01</td>\n      <td>1</td>\n      <td>700.00</td>\n      <td>123 Main Street</td>\n      <td>NYC</td>\n    </tr>\n    <tr>\n      <th>1</th>\n      <td>2</td>\n      <td>1/1/2024</td>\n      <td>102.0</td>\n      <td>ST02</td>\n      <td>1</td>\n      <td>14.95</td>\n      <td>456 Elm Avenue</td>\n      <td>LA</td>\n    </tr>\n    <tr>\n      <th>2</th>\n      <td>3</td>\n      <td>1/1/2024</td>\n      <td>103.0</td>\n      <td>ST03</td>\n      <td>2</td>\n      <td>11.99</td>\n      <td>789 Oak Boulevard</td>\n      <td>Chicago</td>\n    </tr>\n    <tr>\n      <th>3</th>\n      <td>4</td>\n      <td>1/1/2024</td>\n      <td>104.0</td>\n      <td>ST04</td>\n      <td>1</td>\n      <td>149.99</td>\n      <td>1000 Pine Drive</td>\n      <td>Houston</td>\n    </tr>\n    <tr>\n      <th>4</th>\n      <td>5</td>\n      <td>1/1/2024</td>\n      <td>105.0</td>\n      <td>ST05</td>\n      <td>1</td>\n      <td>11.99</td>\n      <td>123 Maple Street</td>\n      <td>Phoenix</td>\n    </tr>\n    <tr>\n      <th>...</th>\n      <td>...</td>\n      <td>...</td>\n      <td>...</td>\n      <td>...</td>\n      <td>...</td>\n      <td>...</td>\n      <td>...</td>\n      <td>...</td>\n    </tr>\n    <tr>\n      <th>266</th>\n      <td>238</td>\n      <td>7/8/2024</td>\n      <td>104.0</td>\n      <td>ST15</td>\n      <td>1</td>\n      <td>700.00</td>\n      <td>789 Elm Boulevard</td>\n      <td>Denver</td>\n    </tr>\n    <tr>\n      <th>267</th>\n      <td>239</td>\n      <td>7/9/2024</td>\n      <td>105.0</td>\n      <td>ST01</td>\n      <td>1</td>\n      <td>3.84</td>\n      <td>1000 Pine Drive</td>\n      <td>Columbus</td>\n    </tr>\n    <tr>\n      <th>268</th>\n      <td>240</td>\n      <td>7/10/2024</td>\n      <td>106.0</td>\n      <td>ST02</td>\n      <td>1</td>\n      <td>600.00</td>\n      <td>123 Main Street</td>\n      <td>Fort Worth</td>\n    </tr>\n    <tr>\n      <th>269</th>\n      <td>241</td>\n      <td>7/11/2024</td>\n      <td>107.0</td>\n      <td>ST03</td>\n      <td>1</td>\n      <td>150.00</td>\n      <td>456 Elm Avenue</td>\n      <td>Charlotte</td>\n    </tr>\n    <tr>\n      <th>270</th>\n      <td>242</td>\n      <td>7/12/2024</td>\n      <td>108.0</td>\n      <td>ST04</td>\n      <td>1</td>\n      <td>99.99</td>\n      <td>789 Oak Boulevard</td>\n      <td>Seattle</td>\n    </tr>\n  </tbody>\n</table>\n<p>271 rows × 8 columns</p>\n</div>"
     },
     "execution_count": 3,
     "metadata": {},
     "output_type": "execute_result"
    }
   ],
   "source": [
    "path = r'C:\\Users\\Hoan Dinh\\OneDrive\\Tài liệu/'\n",
    "filenames = 'Data_Pandas.csv'\n",
    "df = pd.read_csv(path + filenames)\n",
    "df"
   ],
   "metadata": {
    "collapsed": false,
    "ExecuteTime": {
     "end_time": "2024-07-20T01:55:04.134311Z",
     "start_time": "2024-07-20T01:55:04.100474Z"
    }
   },
   "id": "648ac0b4d783fdee",
   "execution_count": 3
  },
  {
   "cell_type": "markdown",
   "source": [
    "Remove Null data"
   ],
   "metadata": {
    "collapsed": false
   },
   "id": "69742aeba8a5a928"
  },
  {
   "cell_type": "code",
   "outputs": [
    {
     "data": {
      "text/plain": "ResultID            0\nDate                0\nProductID           0\nStoreID             0\nQuantity Ordered    0\n Price Each         0\nAddress             0\nCity                0\ndtype: int64"
     },
     "execution_count": 7,
     "metadata": {},
     "output_type": "execute_result"
    }
   ],
   "source": [
    "df.isnull().sum()"
   ],
   "metadata": {
    "collapsed": false,
    "ExecuteTime": {
     "end_time": "2024-07-20T02:00:22.694183Z",
     "start_time": "2024-07-20T02:00:22.685103Z"
    }
   },
   "id": "4ca278777f62f1a7",
   "execution_count": 7
  },
  {
   "cell_type": "code",
   "outputs": [],
   "source": [
    "df.dropna(inplace=True)"
   ],
   "metadata": {
    "collapsed": false,
    "ExecuteTime": {
     "end_time": "2024-07-20T02:00:18.946626Z",
     "start_time": "2024-07-20T02:00:18.941232Z"
    }
   },
   "id": "49ac03212ff160d7",
   "execution_count": 6
  },
  {
   "cell_type": "markdown",
   "source": [
    "Remove Duplicate"
   ],
   "metadata": {
    "collapsed": false
   },
   "id": "e3501258f1695a6d"
  },
  {
   "cell_type": "code",
   "outputs": [
    {
     "data": {
      "text/plain": "Empty DataFrame\nColumns: [ResultID, Date, ProductID, StoreID, Quantity Ordered,  Price Each , Address, City]\nIndex: []",
      "text/html": "<div>\n<style scoped>\n    .dataframe tbody tr th:only-of-type {\n        vertical-align: middle;\n    }\n\n    .dataframe tbody tr th {\n        vertical-align: top;\n    }\n\n    .dataframe thead th {\n        text-align: right;\n    }\n</style>\n<table border=\"1\" class=\"dataframe\">\n  <thead>\n    <tr style=\"text-align: right;\">\n      <th></th>\n      <th>ResultID</th>\n      <th>Date</th>\n      <th>ProductID</th>\n      <th>StoreID</th>\n      <th>Quantity Ordered</th>\n      <th>Price Each</th>\n      <th>Address</th>\n      <th>City</th>\n    </tr>\n  </thead>\n  <tbody>\n  </tbody>\n</table>\n</div>"
     },
     "execution_count": 12,
     "metadata": {},
     "output_type": "execute_result"
    }
   ],
   "source": [
    "duplicates = df[df.duplicated()]\n",
    "duplicates"
   ],
   "metadata": {
    "collapsed": false,
    "ExecuteTime": {
     "end_time": "2024-07-20T02:02:42.234993Z",
     "start_time": "2024-07-20T02:02:42.223275Z"
    }
   },
   "id": "8bdd922b78ac2209",
   "execution_count": 12
  },
  {
   "cell_type": "code",
   "outputs": [],
   "source": [
    "df.drop_duplicates(inplace=True)"
   ],
   "metadata": {
    "collapsed": false,
    "ExecuteTime": {
     "end_time": "2024-07-20T02:02:37.718951Z",
     "start_time": "2024-07-20T02:02:37.712463Z"
    }
   },
   "id": "5290ae765a2a3934",
   "execution_count": 11
  },
  {
   "cell_type": "code",
   "outputs": [
    {
     "data": {
      "text/plain": "dtype('int64')"
     },
     "execution_count": 16,
     "metadata": {},
     "output_type": "execute_result"
    }
   ],
   "source": [
    "df['ProductID'].dtype"
   ],
   "metadata": {
    "collapsed": false,
    "ExecuteTime": {
     "end_time": "2024-07-20T02:05:06.322170Z",
     "start_time": "2024-07-20T02:05:06.313827Z"
    }
   },
   "id": "e9024dd526a71c45",
   "execution_count": 16
  },
  {
   "cell_type": "code",
   "outputs": [
    {
     "name": "stdout",
     "output_type": "stream",
     "text": [
      "<class 'pandas.core.frame.DataFrame'>\n",
      "Index: 178 entries, 0 to 261\n",
      "Data columns (total 8 columns):\n",
      " #   Column            Non-Null Count  Dtype  \n",
      "---  ------            --------------  -----  \n",
      " 0   ResultID          178 non-null    int64  \n",
      " 1   Date              178 non-null    object \n",
      " 2   ProductID         178 non-null    float64\n",
      " 3   StoreID           178 non-null    object \n",
      " 4   Quantity Ordered  178 non-null    int64  \n",
      " 5    Price Each       178 non-null    float64\n",
      " 6   Address           178 non-null    object \n",
      " 7   City              178 non-null    object \n",
      "dtypes: float64(2), int64(2), object(4)\n",
      "memory usage: 12.5+ KB\n"
     ]
    }
   ],
   "source": [
    "df.info()"
   ],
   "metadata": {
    "collapsed": false,
    "ExecuteTime": {
     "end_time": "2024-07-20T02:04:30.782976Z",
     "start_time": "2024-07-20T02:04:30.770257Z"
    }
   },
   "id": "6bc23874fd7edcfe",
   "execution_count": 14
  },
  {
   "cell_type": "code",
   "outputs": [],
   "source": [
    "df['ProductID'] = df['ProductID'].astype(int)"
   ],
   "metadata": {
    "collapsed": false,
    "ExecuteTime": {
     "end_time": "2024-07-20T02:05:03.140831Z",
     "start_time": "2024-07-20T02:05:03.135050Z"
    }
   },
   "id": "cf309b6348d80deb",
   "execution_count": 15
  },
  {
   "cell_type": "code",
   "outputs": [],
   "source": [
    "df.replace('NYC', 'New York City', inplace=True )"
   ],
   "metadata": {
    "collapsed": false,
    "ExecuteTime": {
     "end_time": "2024-07-20T02:07:21.381809Z",
     "start_time": "2024-07-20T02:07:21.376975Z"
    }
   },
   "id": "33ca901a07dc64d3",
   "execution_count": 18
  },
  {
   "cell_type": "code",
   "outputs": [
    {
     "data": {
      "text/plain": "     ResultID       Date  ProductID StoreID  Quantity Ordered   Price Each   \\\n0           1   1/1/2024        101    ST01                 1        700.00   \n1           2   1/1/2024        102    ST02                 1         14.95   \n2           3   1/1/2024        103    ST03                 2         11.99   \n3           4   1/1/2024        104    ST04                 1        149.99   \n4           5   1/1/2024        105    ST05                 1         11.99   \n..        ...        ...        ...     ...               ...           ...   \n257       238   7/8/2024        104    ST15                 1        700.00   \n258       239   7/9/2024        105    ST01                 1          3.84   \n259       240  7/10/2024        106    ST02                 1        600.00   \n260       241  7/11/2024        107    ST03                 1        150.00   \n261       242  7/12/2024        108    ST04                 1         99.99   \n\n               Address           City  \n0      123 Main Street  New York City  \n1       456 Elm Avenue             LA  \n2    789 Oak Boulevard        Chicago  \n3      1000 Pine Drive        Houston  \n4     123 Maple Street        Phoenix  \n..                 ...            ...  \n257  789 Elm Boulevard         Denver  \n258    1000 Pine Drive       Columbus  \n259    123 Main Street     Fort Worth  \n260     456 Elm Avenue      Charlotte  \n261  789 Oak Boulevard        Seattle  \n\n[178 rows x 8 columns]",
      "text/html": "<div>\n<style scoped>\n    .dataframe tbody tr th:only-of-type {\n        vertical-align: middle;\n    }\n\n    .dataframe tbody tr th {\n        vertical-align: top;\n    }\n\n    .dataframe thead th {\n        text-align: right;\n    }\n</style>\n<table border=\"1\" class=\"dataframe\">\n  <thead>\n    <tr style=\"text-align: right;\">\n      <th></th>\n      <th>ResultID</th>\n      <th>Date</th>\n      <th>ProductID</th>\n      <th>StoreID</th>\n      <th>Quantity Ordered</th>\n      <th>Price Each</th>\n      <th>Address</th>\n      <th>City</th>\n    </tr>\n  </thead>\n  <tbody>\n    <tr>\n      <th>0</th>\n      <td>1</td>\n      <td>1/1/2024</td>\n      <td>101</td>\n      <td>ST01</td>\n      <td>1</td>\n      <td>700.00</td>\n      <td>123 Main Street</td>\n      <td>New York City</td>\n    </tr>\n    <tr>\n      <th>1</th>\n      <td>2</td>\n      <td>1/1/2024</td>\n      <td>102</td>\n      <td>ST02</td>\n      <td>1</td>\n      <td>14.95</td>\n      <td>456 Elm Avenue</td>\n      <td>LA</td>\n    </tr>\n    <tr>\n      <th>2</th>\n      <td>3</td>\n      <td>1/1/2024</td>\n      <td>103</td>\n      <td>ST03</td>\n      <td>2</td>\n      <td>11.99</td>\n      <td>789 Oak Boulevard</td>\n      <td>Chicago</td>\n    </tr>\n    <tr>\n      <th>3</th>\n      <td>4</td>\n      <td>1/1/2024</td>\n      <td>104</td>\n      <td>ST04</td>\n      <td>1</td>\n      <td>149.99</td>\n      <td>1000 Pine Drive</td>\n      <td>Houston</td>\n    </tr>\n    <tr>\n      <th>4</th>\n      <td>5</td>\n      <td>1/1/2024</td>\n      <td>105</td>\n      <td>ST05</td>\n      <td>1</td>\n      <td>11.99</td>\n      <td>123 Maple Street</td>\n      <td>Phoenix</td>\n    </tr>\n    <tr>\n      <th>...</th>\n      <td>...</td>\n      <td>...</td>\n      <td>...</td>\n      <td>...</td>\n      <td>...</td>\n      <td>...</td>\n      <td>...</td>\n      <td>...</td>\n    </tr>\n    <tr>\n      <th>257</th>\n      <td>238</td>\n      <td>7/8/2024</td>\n      <td>104</td>\n      <td>ST15</td>\n      <td>1</td>\n      <td>700.00</td>\n      <td>789 Elm Boulevard</td>\n      <td>Denver</td>\n    </tr>\n    <tr>\n      <th>258</th>\n      <td>239</td>\n      <td>7/9/2024</td>\n      <td>105</td>\n      <td>ST01</td>\n      <td>1</td>\n      <td>3.84</td>\n      <td>1000 Pine Drive</td>\n      <td>Columbus</td>\n    </tr>\n    <tr>\n      <th>259</th>\n      <td>240</td>\n      <td>7/10/2024</td>\n      <td>106</td>\n      <td>ST02</td>\n      <td>1</td>\n      <td>600.00</td>\n      <td>123 Main Street</td>\n      <td>Fort Worth</td>\n    </tr>\n    <tr>\n      <th>260</th>\n      <td>241</td>\n      <td>7/11/2024</td>\n      <td>107</td>\n      <td>ST03</td>\n      <td>1</td>\n      <td>150.00</td>\n      <td>456 Elm Avenue</td>\n      <td>Charlotte</td>\n    </tr>\n    <tr>\n      <th>261</th>\n      <td>242</td>\n      <td>7/12/2024</td>\n      <td>108</td>\n      <td>ST04</td>\n      <td>1</td>\n      <td>99.99</td>\n      <td>789 Oak Boulevard</td>\n      <td>Seattle</td>\n    </tr>\n  </tbody>\n</table>\n<p>178 rows × 8 columns</p>\n</div>"
     },
     "execution_count": 19,
     "metadata": {},
     "output_type": "execute_result"
    }
   ],
   "source": [
    "df"
   ],
   "metadata": {
    "collapsed": false,
    "ExecuteTime": {
     "end_time": "2024-07-20T02:07:25.226360Z",
     "start_time": "2024-07-20T02:07:25.210512Z"
    }
   },
   "id": "aa271c233b86eca2",
   "execution_count": 19
  },
  {
   "cell_type": "code",
   "outputs": [
    {
     "data": {
      "text/plain": "<Figure size 640x480 with 1 Axes>",
      "image/png": "[encoded data removed]"
     },
     "metadata": {},
     "output_type": "display_data"
    }
   ],
   "source": [
    "x = np.array([\"A\", \"B\", \"C\", \"D\"])\n",
    "y = np.array([3, 7 , 5, 9])\n",
    "plt.bar(x, y)\n",
    "plt.show()"
   ],
   "metadata": {
    "collapsed": false,
    "ExecuteTime": {
     "end_time": "2024-07-20T02:13:48.139696Z",
     "start_time": "2024-07-20T02:13:47.998396Z"
    }
   },
   "id": "c657101be5c0b23a",
   "execution_count": 22
  },
  {
   "cell_type": "code",
   "outputs": [],
   "source": [],
   "metadata": {
    "collapsed": false
   },
   "id": "8c62fe92c0a8832e"
  }
 ],
 "metadata": {
  "kernelspec": {
   "display_name": "Python 3",
   "language": "python",
   "name": "python3"
  },
  "language_info": {
   "codemirror_mode": {
    "name": "ipython",
    "version": 2
   },
   "file_extension": ".py",
   "mimetype": "text/x-python",
   "name": "python",
   "nbconvert_exporter": "python",
   "pygments_lexer": "ipython2",
   "version": "2.7.6"
  }
 },
 "nbformat": 4,
 "nbformat_minor": 5
}
